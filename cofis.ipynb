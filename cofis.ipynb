{
 "cells": [
  {
   "cell_type": "code",
   "execution_count": null,
   "metadata": {},
   "outputs": [],
   "source": [
    "from keras.models import Sequential\n",
    "from keras.layers import Conv2D, MaxPooling1D, Flatten, Dense, Dropout, BatchNormalization, AveragePooling2D,Dropout,Softmax, ReLU\n",
    "from keras.utils import to_categorical\n",
    "from sklearn.model_selection import train_test_split\n",
    "import numpy as np\n",
    "\n",
    "model = Sequential()\n",
    "model.add(Conv2D(40, (10,1), activation='relu', input_shape=(512,6, 1), padding = \"same\"))\n",
    "model.add(Conv2D(40, (1,6), activation='relu', padding = \"valid\"))\n",
    "model.add(BatchNormalization())\n",
    "model.add(ReLU())\n",
    "model.add(Conv2D(100, (5,1), activation='relu', padding = \"valid\"))\n",
    "model.add(BatchNormalization())\n",
    "model.add(ReLU())\n",
    "model.add(AveragePooling2D(pool_size=(10, 1)))\n",
    "model.add(Dropout(0.2))\n",
    "\n",
    "model.add(Conv2D(200, (3,1), activation='relu', padding = \"valid\"))\n",
    "model.add(BatchNormalization())\n",
    "model.add(ReLU())\n",
    "model.add(AveragePooling2D(pool_size=(10, 1)))\n",
    "model.add(Dropout(0.2))\n",
    "model.add(Flatten())\n",
    "model.add(Dense(5))\n",
    "model.add(Softmax())\n",
    "\n",
    "model.compile(optimizer='adam', loss='categorical_crossentropy', metrics=['accuracy'])"
   ]
  },
  {
   "cell_type": "code",
   "execution_count": null,
   "metadata": {},
   "outputs": [],
   "source": [
    "model.summary()"
   ]
  },
  {
   "cell_type": "code",
   "execution_count": null,
   "metadata": {},
   "outputs": [],
   "source": [
    "import numpy as np\n",
    "\n",
    "# give the dimensions to the data\n",
    "num_samples = 400\n",
    "input_shape = (512, 6, 1)\n",
    "num_classes = 5  # our model output layer has 5 units\n",
    "\n",
    "# random dummy data\n",
    "data = np.random.rand(num_samples, *input_shape)\n",
    "labels = np.random.randint(0, num_classes, size=num_samples)\n",
    "\n",
    "#labels into one-hot encoding\n",
    "from tensorflow.keras.utils import to_categorical\n",
    "labels_one_hot = to_categorical(labels, num_classes=num_classes)\n",
    "\n",
    "# making sure that data is of the correct tyoe\n",
    "data = data.astype('float32')\n",
    "\n",
    "# Example usage:\n",
    "print(\"Data shape:\", data.shape)  # (400, 512, 6, 1)\n",
    "print(\"Labels shape:\", labels_one_hot.shape)  # (400, 5)\n"
   ]
  },
  {
   "cell_type": "code",
   "execution_count": null,
   "metadata": {},
   "outputs": [],
   "source": [
    "model.fit(data, labels_one_hot, epochs=50, batch_size=32, validation_split=0.2)\n"
   ]
  },
  {
   "cell_type": "code",
   "execution_count": null,
   "metadata": {},
   "outputs": [],
   "source": [
    "loss, accuracy = model.evaluate(data, labels_one_hot)\n",
    "print(f\"Test Accuracy: {accuracy}\")\n",
    "print(f\"Test Loss: {loss}\")"
   ]
  },
  {
   "cell_type": "code",
   "execution_count": null,
   "metadata": {},
   "outputs": [],
   "source": [
    "model.save(\"model1.h5\")"
   ]
  },
  {
   "cell_type": "code",
   "execution_count": null,
   "metadata": {},
   "outputs": [],
   "source": [
    "import tensorflow as tf\n",
    "\n",
    "tl_model_1 = tf.keras.models.load_model(\"model1.h5\")"
   ]
  },
  {
   "cell_type": "code",
   "execution_count": null,
   "metadata": {},
   "outputs": [],
   "source": [
    "i = 1\n",
    "for layer in model.layers:\n",
    "  print(f\"layer number :{i} , layer: {layer}\\n\")\n",
    "  i+=1\n",
    "  "
   ]
  },
  {
   "cell_type": "code",
   "execution_count": null,
   "metadata": {},
   "outputs": [],
   "source": [
    "for layer in tl_model_1.layers[:2]:\n",
    "  layer.trainable = False\n",
    "\n",
    "for layer in tl_model_1.layers:\n",
    "  print(f\"layer :{layer}\\ttrainable: {layer.trainable}\")"
   ]
  },
  {
   "cell_type": "code",
   "execution_count": null,
   "metadata": {},
   "outputs": [],
   "source": [
    "tl_model_1.fit(data, labels_one_hot, epochs=10, batch_size=32, validation_split=0.2)"
   ]
  },
  {
   "cell_type": "code",
   "execution_count": null,
   "metadata": {},
   "outputs": [],
   "source": [
    "loss, accuracy = tl_model_1.evaluate(data, labels_one_hot)\n",
    "print(f\"Test Accuracy: {accuracy}\")\n",
    "print(f\"Test Loss: {loss}\")\n"
   ]
  },
  {
   "cell_type": "code",
   "execution_count": null,
   "metadata": {},
   "outputs": [],
   "source": [
    "tl_model_2 = tf.keras.models.load_model(\"model1.h5\")\n",
    "tl_model_2.layers[4].trainable = False\n",
    "tl_model_2.layers[9].trainable = False\n",
    "\n",
    "for layer in tl_model_2.layers:\n",
    "  print(f\"layer :{layer}\\ttrainable: {layer.trainable}\")"
   ]
  },
  {
   "cell_type": "code",
   "execution_count": null,
   "metadata": {},
   "outputs": [],
   "source": [
    "tl_model_2.fit(data, labels_one_hot, epochs=10, batch_size=32, validation_split=0.2)"
   ]
  },
  {
   "cell_type": "code",
   "execution_count": null,
   "metadata": {},
   "outputs": [],
   "source": [
    "loss, accuracy = tl_model_2.evaluate(data, labels_one_hot)\n",
    "print(f\"Test Accuracy: {accuracy}\")\n",
    "print(f\"Test Loss: {loss}\")"
   ]
  },
  {
   "cell_type": "code",
   "execution_count": null,
   "metadata": {},
   "outputs": [],
   "source": [
    "tl_model_3 = tf.keras.models.load_model(\"model1.h5\")\n",
    "tl_model_3.fit(data, labels_one_hot, epochs=10, batch_size=32, validation_split=0.2)"
   ]
  },
  {
   "cell_type": "code",
   "execution_count": null,
   "metadata": {},
   "outputs": [],
   "source": [
    "loss, accuracy = tl_model_3.evaluate(data, labels_one_hot)\n",
    "print(f\"Test Accuracy: {accuracy}\")\n",
    "print(f\"Test Loss: {loss}\")\n"
   ]
  }
 ],
 "metadata": {
  "kernelspec": {
   "display_name": "Python 3",
   "language": "python",
   "name": "python3"
  },
  "language_info": {
   "codemirror_mode": {
    "name": "ipython",
    "version": 3
   },
   "file_extension": ".py",
   "mimetype": "text/x-python",
   "name": "python",
   "nbconvert_exporter": "python",
   "pygments_lexer": "ipython3",
   "version": "3.12.4"
  }
 },
 "nbformat": 4,
 "nbformat_minor": 2
}
